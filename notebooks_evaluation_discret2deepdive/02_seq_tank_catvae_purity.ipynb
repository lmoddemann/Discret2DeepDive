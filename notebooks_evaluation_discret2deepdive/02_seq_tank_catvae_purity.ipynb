{
 "cells": [
  {
   "cell_type": "markdown",
   "metadata": {},
   "source": [
    "# Evaluation of CatVAE discretization performance with preprocessed tank Dataset\n",
    "Visual evaluation of the preciseness of discretization and meaningful categories. <br>\n",
    "Wihtin the first subplot we plot a selection of measurement values from the dataset. <br>\n",
    "The second subplot includes the learned discretizations from the CatVAE indicated by the index for the x-axis. <br>\n",
    "The third subplot plots the loglikelihood of the CatVAE according to the the input data. <br>\n",
    "\n",
    "To make a statement about the change in states and likelihood, we plot one codeblock with nominal system behavior and the following with anomalous system behavior. "
   ]
  },
  {
   "cell_type": "code",
   "execution_count": null,
   "metadata": {},
   "outputs": [],
   "source": [
    "cd .."
   ]
  },
  {
   "cell_type": "code",
   "execution_count": null,
   "metadata": {},
   "outputs": [],
   "source": [
    "import os\n",
    "import pandas as pd\n",
    "import torch\n",
    "import plotly.graph_objects as go\n",
    "import yaml\n",
    "from plotly.subplots import make_subplots\n",
    "import numpy as np\n",
    "from ipywidgets import interact\n",
    "\n",
    "from seqcat_datamodule import Dataset\n",
    "from seqcat_catvae import seqcat_vae\n",
    "from sklearn.preprocessing import StandardScaler\n",
    "np.random.seed(123)\n",
    "torch.manual_seed(123)\n"
   ]
  },
  {
   "cell_type": "code",
   "execution_count": null,
   "metadata": {},
   "outputs": [],
   "source": [
    "def plot_like(idx):\n",
    "    MODEL_VERSION = f'VAE_training_hparams/tank/rnn_catvae/version_{idx}'\n",
    "    ckpt_file_name = os.listdir(f'./{MODEL_VERSION}/checkpoints/')[-1]\n",
    "    ckpt_file_path = f'./{MODEL_VERSION}/checkpoints/{ckpt_file_name}'\n",
    "    with open(f'./{MODEL_VERSION}/hparams.yaml') as f:\n",
    "        hparam = yaml.safe_load(f)\n",
    "    model = seqcat_vae.load_from_checkpoint(ckpt_file_path, hparams=hparam[\"hparams\"])\n",
    "\n",
    "    df_csv = pd.read_csv(f'preprocessed_data/tank_simulation/norm_long.csv').iloc[1500:, :3].reset_index(drop=True)\n",
    "    df_csv_realcat = pd.read_csv(f'preprocessed_data/tank_simulation/norm_long.csv').iloc[1500:, 3].reset_index(drop=True)\n",
    "    scaler = StandardScaler().fit(pd.read_csv('preprocessed_data/tank_simulation/norm_long.csv').iloc[:, :3].reset_index(drop=True))\n",
    "    df_csv_sc = pd.DataFrame(scaler.transform(df_csv), columns=df_csv.columns, index=df_csv.index).iloc[:2000, :].reset_index(drop=True)\n",
    "\n",
    "    faulty_idx = df_csv_realcat.str.contains('faulty').astype(int)\n",
    "    dataset = Dataset(dataframe=df_csv_sc.iloc[:, :3].reset_index(drop=True), number_timesteps=hparam[\"hparams\"][\"NUMBER_TIMESTEPS\"])\n",
    "\n",
    "    all_cats = []\n",
    "    all_kl = []\n",
    "    all_like = []\n",
    "    all_residuals = []\n",
    "    all_mu = []\n",
    "    for window in dataset:\n",
    "        pzx_logits, pzx, mu, sigma, pxz, z = model.get_states(window.unsqueeze(0).to('cuda'))\n",
    "        _, kl = model.kl_divergence(pzx=pzx)\n",
    "        like = model.function_likelihood(x=window.unsqueeze(0).to('cuda')).mean()\n",
    "        z_list = z.detach().cpu().numpy().astype(int) \n",
    "        all_cats.append(z_list)\n",
    "        all_kl.append(kl.detach().cpu().numpy())\n",
    "        all_like.append(like.detach().cpu().numpy())\n",
    "        all_mu.append(mu.detach().cpu().numpy())\n",
    "\n",
    "    all = pd.DataFrame(np.vstack(all_cats))\n",
    "    kl_ = pd.DataFrame(np.vstack(all_kl))\n",
    "    cats = pd.DataFrame(all.idxmax(axis=1))\n",
    "    like_ = pd.DataFrame(all_like)\n",
    "    mu_ = pd.DataFrame(np.vstack(all_mu)[::10].reshape(-1, np.vstack(all_mu)[::10].shape[2]))\n",
    "    data_ = pd.DataFrame(np.vstack(dataset)[::10].reshape(-1, np.vstack(all_mu)[::10].shape[2]))\n",
    "    unique_cats = cats[cats.columns[0]].unique()\n",
    "\n",
    "    cluster_assignments = cats[cats.columns[0]]\n",
    "    class_assignments = df_csv_realcat[:len(cluster_assignments)]\n",
    "    assert len(cluster_assignments) == len(class_assignments)\n",
    "    \n",
    "    num_samples = len(cluster_assignments)\n",
    "    num_clusters = len(np.unique(cluster_assignments))\n",
    "    num_classes = len(np.unique(class_assignments))\n",
    "    \n",
    "    cluster_class_counts = {cluster_: {class_: 0 for class_ in np.unique(class_assignments)}\n",
    "                            for cluster_ in np.unique(cluster_assignments)}\n",
    "    \n",
    "    for cluster_, class_ in zip(cluster_assignments, class_assignments):\n",
    "        cluster_class_counts[cluster_][class_] += 1\n",
    "        \n",
    "    total_intersection = sum([max(list(class_dict.values())) for cluster_, class_dict in cluster_class_counts.items()])\n",
    "    purity = total_intersection/num_samples\n",
    "    print(purity)\n",
    "\n",
    "    fig = make_subplots(rows=6, cols=1, shared_xaxes=True)\n",
    "    for i in range(0,3):\n",
    "        fig.add_trace(go.Scatter(x=pd.DataFrame(df_csv_sc).index, y=pd.DataFrame(df_csv_sc)[pd.DataFrame(df_csv_sc).columns[i]], name=df_csv_sc.columns[i],  mode='markers'), \n",
    "                    row=1, col=1)\n",
    "    fig.add_trace(go.Scatter(x = pd.DataFrame(df_csv_sc).index, y=cats[cats.columns[0]], name='category', mode='lines'),row=2, col=1)\n",
    "    fig.add_trace(go.Scatter(x=pd.DataFrame(df_csv_sc).index, y=df_csv_realcat.values, name='vae cats', mode='markers'), row=3, col=1)\n",
    "    return fig\n",
    "\n",
    "# computation of total purity\n",
    "def calc_purity():\n",
    "    total_purity = []\n",
    "    for idx in range(10):\n",
    "        MODEL_VERSION = f'VAE_training_hparams/tank/rnn_catvae/version_{idx}'\n",
    "        ckpt_file_name = os.listdir(f'./{MODEL_VERSION}/checkpoints/')[-1]\n",
    "        ckpt_file_path = f'./{MODEL_VERSION}/checkpoints/{ckpt_file_name}'\n",
    "        with open(f'./{MODEL_VERSION}/hparams.yaml') as f:\n",
    "            hparam = yaml.safe_load(f)\n",
    "        model = seqcat_vae.load_from_checkpoint(ckpt_file_path, hparams=hparam[\"hparams\"])\n",
    "\n",
    "        df_csv = pd.read_csv(f'preprocessed_data/tank_simulation/norm_long.csv').iloc[:, :3].reset_index(drop=True)\n",
    "        df_csv_realcat = pd.read_csv(f'preprocessed_data/tank_simulation/norm_long.csv').iloc[1500:, 3].reset_index(drop=True)\n",
    "        scaler = StandardScaler().fit(pd.read_csv('preprocessed_data/tank_simulation/norm_long.csv').iloc[:, :3].reset_index(drop=True))\n",
    "        df_csv_sc = pd.DataFrame(scaler.transform(df_csv), columns=df_csv.columns, index=df_csv.index).iloc[1500:, :].reset_index(drop=True)\n",
    "\n",
    "        faulty_idx = df_csv_realcat.str.contains('faulty').astype(int)\n",
    "        dataset = Dataset(dataframe=df_csv_sc.iloc[:, :3].reset_index(drop=True), number_timesteps=hparam[\"hparams\"][\"NUMBER_TIMESTEPS\"])\n",
    "\n",
    "\n",
    "        all_cats = []\n",
    "        all_kl = []\n",
    "        all_like = []\n",
    "        all_residuals = []\n",
    "        all_mu = []\n",
    "        for window in dataset:\n",
    "            pzx_logits, pzx, mu, sigma, pxz, z = model.get_states(window.unsqueeze(0).to('cuda'))\n",
    "            _, kl = model.kl_divergence(pzx=pzx)\n",
    "            like = model.function_likelihood(x=window.unsqueeze(0).to('cuda')).mean()\n",
    "            z_list = z.detach().cpu().numpy().astype(int) \n",
    "            all_cats.append(z_list)\n",
    "            all_kl.append(kl.detach().cpu().numpy())\n",
    "            all_like.append(like.detach().cpu().numpy())\n",
    "            all_mu.append(mu.detach().cpu().numpy())\n",
    "\n",
    "        all = pd.DataFrame(np.vstack(all_cats))\n",
    "        kl_ = pd.DataFrame(np.vstack(all_kl))\n",
    "        cats = pd.DataFrame(all.idxmax(axis=1))\n",
    "        like_ = pd.DataFrame(all_like)\n",
    "        mu_ = pd.DataFrame(np.vstack(all_mu)[::10].reshape(-1, np.vstack(all_mu)[::10].shape[2]))\n",
    "        data_ = pd.DataFrame(np.vstack(dataset)[::10].reshape(-1, np.vstack(all_mu)[::10].shape[2]))\n",
    "        unique_cats = cats[cats.columns[0]].unique()\n",
    "\n",
    "        cluster_assignments = cats[cats.columns[0]]\n",
    "        class_assignments = df_csv_realcat[0:-10]\n",
    "        assert len(cluster_assignments) == len(class_assignments)\n",
    "        \n",
    "        num_samples = len(cluster_assignments)\n",
    "        num_clusters = len(np.unique(cluster_assignments))\n",
    "        num_classes = len(np.unique(class_assignments))\n",
    "        \n",
    "        cluster_class_counts = {cluster_: {class_: 0 for class_ in np.unique(class_assignments)}\n",
    "                                for cluster_ in np.unique(cluster_assignments)}\n",
    "        \n",
    "        for cluster_, class_ in zip(cluster_assignments, class_assignments):\n",
    "            cluster_class_counts[cluster_][class_] += 1\n",
    "            \n",
    "        total_intersection = sum([max(list(class_dict.values())) for cluster_, class_dict in cluster_class_counts.items()])\n",
    "        \n",
    "        purity = total_intersection/num_samples\n",
    "        print(purity)\n",
    "        total_purity.append(purity)\n",
    "    mean = sum(total_purity)/len(total_purity)\n",
    "    variance = sum([((x - mean) ** 2) for x in total_purity]) / len(total_purity) \n",
    "    std = variance ** 0.5\n",
    "    return {'mean ':mean, 'std ':std}\n",
    "\n"
   ]
  },
  {
   "cell_type": "code",
   "execution_count": null,
   "metadata": {},
   "outputs": [],
   "source": [
    "interact(plot_like, idx = range(10))\n"
   ]
  },
  {
   "cell_type": "code",
   "execution_count": null,
   "metadata": {},
   "outputs": [],
   "source": [
    "calc_purity()"
   ]
  },
  {
   "cell_type": "code",
   "execution_count": null,
   "metadata": {},
   "outputs": [],
   "source": []
  },
  {
   "cell_type": "code",
   "execution_count": null,
   "metadata": {},
   "outputs": [],
   "source": [
    "cats"
   ]
  },
  {
   "cell_type": "code",
   "execution_count": null,
   "metadata": {},
   "outputs": [],
   "source": [
    "cats['Prev_Value'] = cats[cats.columns[0]].shift(1)\n",
    "cats['Change'] = (cats[cats.columns[0]] != cats['Prev_Value'])\n",
    "transitions = cats[cats['Change'] == True]\n",
    "transitions = transitions.dropna()"
   ]
  },
  {
   "cell_type": "code",
   "execution_count": null,
   "metadata": {},
   "outputs": [],
   "source": [
    "transitions[transitions.columns[0]].to_csv('preprocessed_data/tank_transistions.csv')"
   ]
  },
  {
   "cell_type": "code",
   "execution_count": null,
   "metadata": {},
   "outputs": [],
   "source": [
    "transitions[transitions.columns[0]].to_list()"
   ]
  },
  {
   "cell_type": "code",
   "execution_count": null,
   "metadata": {},
   "outputs": [],
   "source": [
    "from aalpy.learning_algs import run_Alergia\n",
    "from aalpy.utils import visualize_automaton\n",
    "\n",
    "model = run_Alergia(data=[transitions[transitions.columns[0]].to_list()], automaton_type='mc', eps=0.001, print_info=True)\n"
   ]
  },
  {
   "cell_type": "code",
   "execution_count": null,
   "metadata": {},
   "outputs": [],
   "source": [
    "print(model.initial_state.output)"
   ]
  },
  {
   "cell_type": "code",
   "execution_count": null,
   "metadata": {},
   "outputs": [],
   "source": [
    "for state in model.states:\n",
    "    print(state.transitions)"
   ]
  },
  {
   "cell_type": "code",
   "execution_count": null,
   "metadata": {},
   "outputs": [],
   "source": [
    "for state in model.states:\n",
    "    print(state.transitions[0][0].transitions[0][0].transitions)\n"
   ]
  },
  {
   "cell_type": "code",
   "execution_count": null,
   "metadata": {},
   "outputs": [],
   "source": [
    "for state in model.states:\n",
    "    print(state.output)"
   ]
  },
  {
   "cell_type": "code",
   "execution_count": null,
   "metadata": {},
   "outputs": [],
   "source": [
    "\n",
    "\n",
    "init_state = model.initial_state.output\n",
    "for state in model.states:\n",
    "    for sub in state.transitions\n",
    "        print(init_state)\n",
    "        print(sub[0].output)\n",
    "        # print('--------------')\n",
    "        print(sub[1])\n",
    "        print('--------------')\n",
    "\n",
    "    init_state = state.transitions[0][0].output\n",
    "\n"
   ]
  },
  {
   "cell_type": "code",
   "execution_count": null,
   "metadata": {},
   "outputs": [],
   "source": [
    "# init_state = model.initial_state.output\n",
    "transitions_data = []  # List to collect transition data\n",
    "\n",
    "for state in model.states:\n",
    "    for sub in state.transitions: \n",
    "        # Collect each transition data\n",
    "        transition = {\n",
    "            'Previous': state.output,\n",
    "            'Current': sub[0].output,\n",
    "            'Probability': sub[1]\n",
    "        }\n",
    "        transitions_data.append(transition)\n",
    "        print('--------------')  # Maintain this for visual separation in console output\n",
    "\n",
    "    # Update the initial state for the next iteration if there are any transitions\n",
    "    # if state.transitions:\n",
    "    # init_state = state.transitions[0][0].output\n",
    "\n",
    "# Create DataFrame from collected data\n",
    "transitions_df = pd.DataFrame(transitions_data)"
   ]
  },
  {
   "cell_type": "code",
   "execution_count": null,
   "metadata": {},
   "outputs": [],
   "source": [
    "transitions_df.head(25)"
   ]
  },
  {
   "cell_type": "code",
   "execution_count": null,
   "metadata": {},
   "outputs": [],
   "source": []
  },
  {
   "cell_type": "code",
   "execution_count": null,
   "metadata": {},
   "outputs": [],
   "source": [
    "probability_distributions = [i[1] for i in model.current_state.transitions]\n",
    "states = [i[0] for i in model.current_state.transitions]"
   ]
  },
  {
   "cell_type": "code",
   "execution_count": null,
   "metadata": {},
   "outputs": [],
   "source": [
    "states"
   ]
  },
  {
   "cell_type": "code",
   "execution_count": null,
   "metadata": {},
   "outputs": [],
   "source": [
    "# plot of anomalous data by exceeding the likelihood of -40 compared to the plot above\n",
    "# plot_like(anomaly=anomalies[1])"
   ]
  },
  {
   "cell_type": "code",
   "execution_count": null,
   "metadata": {},
   "outputs": [],
   "source": [
    "# plot_like(anomaly=anomalies[2])"
   ]
  },
  {
   "cell_type": "code",
   "execution_count": null,
   "metadata": {},
   "outputs": [],
   "source": [
    "def define_automaton():\n",
    "    automaton = {\n",
    "        'A': {'B': 0.6, 'C': 0.4},\n",
    "        'B': {'A': 1}\n",
    "    }\n",
    "    return automaton\n",
    "\n",
    "def check_transition(current_state, next_state, automaton):\n",
    "    \"\"\"\n",
    "    Check if the transition from current_state to next_state is allowed in the automaton.\n",
    "    \n",
    "    Parameters:\n",
    "        current_state (str): The current state of the automaton.\n",
    "        next_state (str): The proposed next state.\n",
    "        automaton (dict): A dictionary representing the automaton with states and valid transitions.\n",
    "\n",
    "    Returns:\n",
    "        bool: True if the transition is valid, False otherwise.\n",
    "    \"\"\"\n",
    "    valid_transitions = automaton.get(current_state, {})\n",
    "    if next_state in valid_transitions:\n",
    "        return True\n",
    "    else:\n",
    "        return False\n",
    "\n",
    "\n"
   ]
  },
  {
   "cell_type": "code",
   "execution_count": null,
   "metadata": {},
   "outputs": [],
   "source": [
    "# Example usage\n",
    "automaton = define_automaton()\n",
    "current_state = 'A'\n",
    "next_state = 'B'\n",
    "is_valid = check_transition(current_state, next_state, automaton)\n",
    "print(f\"Transition from {current_state} to {next_state} is valid: {is_valid}\")\n",
    "\n",
    "current_state = 'B'\n",
    "next_state = 'C'\n",
    "is_valid = check_transition(current_state, next_state, automaton)\n",
    "print(f\"Transition from {current_state} to {next_state} is valid: {is_valid}\")"
   ]
  },
  {
   "cell_type": "code",
   "execution_count": null,
   "metadata": {},
   "outputs": [],
   "source": []
  }
 ],
 "metadata": {
  "kernelspec": {
   "display_name": "Python 3",
   "language": "python",
   "name": "python3"
  },
  "language_info": {
   "codemirror_mode": {
    "name": "ipython",
    "version": 3
   },
   "file_extension": ".py",
   "mimetype": "text/x-python",
   "name": "python",
   "nbconvert_exporter": "python",
   "pygments_lexer": "ipython3",
   "version": "3.11.8"
  },
  "orig_nbformat": 4
 },
 "nbformat": 4,
 "nbformat_minor": 2
}
