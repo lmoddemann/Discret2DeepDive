{
 "cells": [
  {
   "cell_type": "markdown",
   "metadata": {},
   "source": [
    "# Evaluation of CatVAE discretization performance with preprocessed tank Dataset\n",
    "Visual evaluation of the preciseness of discretization and meaningful categories. <br>\n"
   ]
  },
  {
   "cell_type": "code",
   "execution_count": null,
   "metadata": {},
   "outputs": [],
   "source": [
    "cd .."
   ]
  },
  {
   "cell_type": "code",
   "execution_count": null,
   "metadata": {},
   "outputs": [],
   "source": [
    "import os\n",
    "import pandas as pd\n",
    "import torch\n",
    "import plotly.graph_objects as go\n",
    "import yaml\n",
    "from plotly.subplots import make_subplots\n",
    "from ipywidgets import interact\n",
    "import numpy as np\n",
    "\n",
    "from utils import standardize_data\n",
    "from datamodule import Dataset\n",
    "from catvae import CategoricalVAE\n",
    "\n",
    "np.random.seed(123)\n",
    "torch.manual_seed(123)"
   ]
  },
  {
   "cell_type": "code",
   "execution_count": null,
   "metadata": {},
   "outputs": [],
   "source": [
    "def plot_like(idx):\n",
    "    # load trained model\n",
    "    MODEL_VERSION = f'VAE_training_hparams/tank/catvae/version_{idx}'\n",
    "    ckpt_file_name = os.listdir(f'./{MODEL_VERSION}/checkpoints/')[-1]\n",
    "    ckpt_file_path = f'./{MODEL_VERSION}/checkpoints/{ckpt_file_name}'\n",
    "    with open(f'./{MODEL_VERSION}/hparams.yaml') as f:\n",
    "        hparam = yaml.safe_load(f)\n",
    "    model = CategoricalVAE.load_from_checkpoint(ckpt_file_path, hparams=hparam[\"hparams\"]).to('cuda')\n",
    "    # read normal data\n",
    "    df_csv = pd.read_csv(f'preprocessed_data/tank_simulation/norm_long.csv').iloc[2000:, :3].reset_index(drop=True)\n",
    "    df_csv_realcat = pd.read_csv(f'preprocessed_data/tank_simulation/norm_long.csv').iloc[2000:, 3].reset_index(drop=True)\n",
    "    df_sc = standardize_data(df_csv, 'scaler_tank.pkl')\n",
    "    df_ = df_sc.iloc[:, :].reset_index(drop=True)\n",
    "    df_sc = Dataset(dataframe = df_sc)\n",
    "    # compute discretized categories and likelihoods\n",
    "    likelihood = pd.DataFrame(model.function_likelihood(torch.tensor(df_sc).to(device='cuda')).cpu().detach()).rolling(10).median().fillna(method='bfill')\n",
    "    pzx_logits, pzx, mu, sigma, pxz, z = model.get_states(torch.tensor(df_sc).to(device='cuda'))\n",
    "    df_states = pd.DataFrame(torch.zeros(z.shape).to(device='cuda').scatter(1, torch.argmax(pzx_logits, dim=1).unsqueeze(1), 1).cpu().detach().numpy(), index=df_.index).astype(int)\n",
    "    cats = pd.DataFrame(df_states.idxmax(axis=1), index=pd.DataFrame(df_).index)  \n",
    "    # compute purity measure\n",
    "    cluster_assignments = cats[cats.columns[0]]\n",
    "    class_assignments = df_csv_realcat\n",
    "    assert len(cluster_assignments) == len(class_assignments)\n",
    "    \n",
    "    num_samples = len(cluster_assignments)\n",
    "    num_clusters = len(np.unique(cluster_assignments))\n",
    "    num_classes = len(np.unique(class_assignments))\n",
    "    \n",
    "    cluster_class_counts = {cluster_: {class_: 0 for class_ in np.unique(class_assignments)}\n",
    "                            for cluster_ in np.unique(cluster_assignments)}\n",
    "    \n",
    "    for cluster_, class_ in zip(cluster_assignments, class_assignments):\n",
    "        cluster_class_counts[cluster_][class_] += 1\n",
    "        \n",
    "    total_intersection = sum([max(list(class_dict.values())) for cluster_, class_dict in cluster_class_counts.items()])\n",
    "    purity = total_intersection/num_samples\n",
    "    print(purity)\n",
    "\n",
    "    fig = make_subplots(rows=4, cols=1, shared_xaxes=True)\n",
    "    for i in range(0,3):\n",
    "        fig.add_trace(go.Scatter(x=pd.DataFrame(df_).index, y=pd.DataFrame(df_)[pd.DataFrame(df_).columns[i]], name=df_.columns[i],  mode='markers'), \n",
    "                      row=1, col=1)\n",
    "    fig.add_trace(go.Scatter(x = pd.DataFrame(df_).index, y=cats[cats.columns[0]], name='discretized category', mode='lines'),row=2, col=1)\n",
    "    fig.add_trace(go.Scatter(x=pd.DataFrame(df_).index, y=df_csv_realcat.values, name='real category'), row=3, col=1)\n",
    "    return fig\n",
    "\n",
    "\n",
    "# computation of total purity\n",
    "def calc_purity():\n",
    "    total_purity = []\n",
    "    # compute mean and var of trained models\n",
    "    for idx in range(10):\n",
    "        # load trained model \n",
    "        MODEL_VERSION = f'VAE_training_hparams/tank/catvae/version_{idx}'\n",
    "        ckpt_file_name = os.listdir(f'./{MODEL_VERSION}/checkpoints/')[-1]\n",
    "        ckpt_file_path = f'./{MODEL_VERSION}/checkpoints/{ckpt_file_name}'\n",
    "        with open(f'./{MODEL_VERSION}/hparams.yaml') as f:\n",
    "            hparam = yaml.safe_load(f)\n",
    "        model = CategoricalVAE.load_from_checkpoint(ckpt_file_path, hparams=hparam[\"hparams\"]).to('cuda')\n",
    "        # read normal data\n",
    "        df_csv = df_csv = pd.read_csv(f'preprocessed_data/tank_simulation/norm_long.csv').reset_index(drop=True).iloc[1500:, :3]\n",
    "        df_csv_realcat = pd.read_csv(f'preprocessed_data/tank_simulation/norm_long.csv').reset_index(drop=True).iloc[1500:, 3]\n",
    "        df_sc = standardize_data(df_csv, 'scaler_tank.pkl')\n",
    "        df = Dataset(dataframe = df_sc)[:][0:]\n",
    "        # compute discretized categories and likelihoods\n",
    "        likelihood = pd.DataFrame(model.function_likelihood(torch.tensor(df).to(device='cuda')).cpu().detach()).rolling(10).median().fillna(method='bfill')\n",
    "        pzx_logits, pzx, mu, sigma, pxz, z = model.get_states(torch.tensor(df).to(device='cuda'))\n",
    "        df_states = pd.DataFrame(torch.zeros(z.shape).to(device='cuda').scatter(1, torch.argmax(pzx_logits, dim=1).unsqueeze(1), 1).cpu().detach().numpy(), index=pd.DataFrame(df_csv).index).astype(int)\n",
    "        cats = pd.DataFrame(df_states.idxmax(axis=1), index=pd.DataFrame(df_csv).index)  \n",
    "        # compute purity measure\n",
    "        cluster_assignments = cats[cats.columns[0]]\n",
    "        class_assignments = df_csv_realcat\n",
    "        assert len(cluster_assignments) == len(class_assignments)\n",
    "        \n",
    "        num_samples = len(cluster_assignments)\n",
    "        num_clusters = len(np.unique(cluster_assignments))\n",
    "        num_classes = len(np.unique(class_assignments))\n",
    "        \n",
    "        cluster_class_counts = {cluster_: {class_: 0 for class_ in np.unique(class_assignments)}\n",
    "                                for cluster_ in np.unique(cluster_assignments)}\n",
    "        \n",
    "        for cluster_, class_ in zip(cluster_assignments, class_assignments):\n",
    "            cluster_class_counts[cluster_][class_] += 1\n",
    "            \n",
    "        total_intersection = sum([max(list(class_dict.values())) for cluster_, class_dict in cluster_class_counts.items()])\n",
    "        \n",
    "        purity = total_intersection/num_samples\n",
    "        total_purity.append(purity)\n",
    "    mean = sum(total_purity)/len(total_purity)\n",
    "    variance = sum([((x - mean) ** 2) for x in total_purity]) / len(total_purity) \n",
    "    std = variance ** 0.5\n",
    "    return {'mean ':mean, 'std ':std}"
   ]
  },
  {
   "cell_type": "code",
   "execution_count": null,
   "metadata": {},
   "outputs": [],
   "source": [
    "# plot function to see likelihoods and discretizations\n",
    "interact(plot_like, idx=range(10))"
   ]
  },
  {
   "cell_type": "code",
   "execution_count": null,
   "metadata": {},
   "outputs": [],
   "source": [
    "# computing the purity\n",
    "calc_purity()"
   ]
  }
 ],
 "metadata": {
  "kernelspec": {
   "display_name": "Python 3",
   "language": "python",
   "name": "python3"
  },
  "language_info": {
   "codemirror_mode": {
    "name": "ipython",
    "version": 3
   },
   "file_extension": ".py",
   "mimetype": "text/x-python",
   "name": "python",
   "nbconvert_exporter": "python",
   "pygments_lexer": "ipython3",
   "version": "3.11.8"
  },
  "orig_nbformat": 4
 },
 "nbformat": 4,
 "nbformat_minor": 2
}
