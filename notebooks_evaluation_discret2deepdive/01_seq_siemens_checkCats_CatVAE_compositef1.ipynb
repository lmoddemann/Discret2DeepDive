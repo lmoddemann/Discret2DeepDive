{
 "cells": [
  {
   "cell_type": "markdown",
   "metadata": {},
   "source": [
    "# Evaluation of CatVAE discretization performance with preprocessed tank Dataset\n",
    "Visual evaluation of the preciseness of discretization and meaningful categories. <br>\n",
    "Wihtin the first subplot we plot a selection of measurement values from the dataset. <br>\n",
    "The second subplot includes the learned discretizations from the CatVAE indicated by the index for the x-axis. <br>\n",
    "The third subplot plots the loglikelihood of the CatVAE according to the the input data. <br>\n",
    "\n",
    "To make a statement about the change in states and likelihood, we plot one codeblock with nominal system behavior and the following with anomalous system behavior. "
   ]
  },
  {
   "cell_type": "code",
   "execution_count": null,
   "metadata": {},
   "outputs": [],
   "source": [
    "cd .."
   ]
  },
  {
   "cell_type": "code",
   "execution_count": null,
   "metadata": {},
   "outputs": [],
   "source": [
    "import os\n",
    "import pandas as pd\n",
    "import torch\n",
    "import plotly.graph_objects as go\n",
    "import yaml\n",
    "from plotly.subplots import make_subplots\n",
    "import numpy as np\n",
    "from ipywidgets import interact\n",
    "from sklearn.metrics import precision_score\n",
    "\n",
    "from utils import standardize_data\n",
    "from seq_vae import seq_vae\n",
    "from seq_datamodule import Dataset as seq_dataset\n",
    "from sklearn.preprocessing import StandardScaler\n"
   ]
  },
  {
   "cell_type": "code",
   "execution_count": null,
   "metadata": {},
   "outputs": [],
   "source": [
    "def plot_like(anom):\n",
    "\n",
    "    MODEL_VERSION_SEQ = 'VAE_training_hparams/SmA/seq_vae'\n",
    "    ckpt_file_name_seq = os.listdir(f'./{MODEL_VERSION_SEQ}/checkpoints/')[-1]\n",
    "    ckpt_file_path_seq = f'./{MODEL_VERSION_SEQ}/checkpoints/{ckpt_file_name_seq}'\n",
    "    with open(f'./{MODEL_VERSION_SEQ}/hparams.yaml') as f:\n",
    "        hparam_seq = yaml.safe_load(f)\n",
    "    model_seq = seq_vae.load_from_checkpoint(ckpt_file_path_seq, hparams=hparam_seq).to('cuda')\n",
    "\n",
    "    threshold = -550\n",
    "\n",
    "    if anom=='norm':\n",
    "        df_csv = pd.read_csv('preprocessed_data/SmA/id1_norm.csv').drop(columns=['CuStepNo ValueY']).reset_index(drop=True)\n",
    "        df_label = pd.read_csv('preprocessed_data/SmA/id1_norm.csv')['CuStepNo ValueY'].iloc[20000:25000].reset_index(drop=True)\n",
    "        scaler = StandardScaler().fit(pd.read_csv('preprocessed_data/SmA/id1_norm.csv').drop(columns=['CuStepNo ValueY']).iloc[8000:30000, :].reset_index(drop=True))\n",
    "        df_csv_sc = pd.DataFrame(scaler.transform(df_csv), columns=df_csv.columns, index=df_csv.index).iloc[20000:25000, :].reset_index(drop=True)\n",
    "\n",
    "    else:\n",
    "        df_csv = pd.read_csv(f'preprocessed_data/SmA/{anom}_anomaly.csv').drop(columns=['CuStepNo ValueY']).reset_index(drop=True)\n",
    "        df_label = pd.read_csv(f'preprocessed_data/SmA/{anom}_anomaly.csv')['CuStepNo ValueY'].iloc[40000:45000].reset_index(drop=True)\n",
    "        scaler = StandardScaler().fit(pd.read_csv('preprocessed_data/SmA/id1_norm.csv').drop(columns=['CuStepNo ValueY']).iloc[8000:30000, :].reset_index(drop=True))\n",
    "        df_csv_sc = pd.DataFrame(scaler.transform(df_csv), columns=df_csv.columns, index=df_csv.index).iloc[40000:45000, :].reset_index(drop=True)        \n",
    "    dataset_seq = seq_dataset(dataframe=df_csv_sc.iloc[:], **hparam_seq)\n",
    "\n",
    "    all_residuals = []\n",
    "    for window in dataset_seq:\n",
    "        # 'window' is the input sequence\n",
    "        predicted, x = model_seq(window.unsqueeze(0).to('cuda'))\n",
    "        all_residuals.extend(x['recon_loss'].flatten().detach().cpu().numpy())\n",
    "\n",
    "    all_residuals = np.array(all_residuals)\n",
    "    anom_labels = np.where(all_residuals < threshold, .5 , 0)\n",
    "\n",
    "    fig = make_subplots(rows=5, cols=1, shared_xaxes=True)\n",
    "    for i in range(0,3):\n",
    "        fig.add_trace(go.Scatter(x=pd.DataFrame(df_csv_sc).index, y=pd.DataFrame(df_csv_sc)[pd.DataFrame(df_csv_sc).columns[i]],  mode='markers'),\n",
    "                      row=1, col=1)\n",
    "    new_x = list(range(10, 10 + len(df_csv)))\n",
    "    fig.add_trace(go.Scatter(x=new_x, y=all_residuals, name='residual', mode='markers'), row=4, col=1)\n",
    "    fig.add_trace(go.Scatter(x=new_x, y=anom_labels, mode='lines', name='anomaly'), row=5, col=1)\n",
    "    fig.update_layout(title_text=anom)\n",
    "    return fig\n",
    "\n",
    "def composite_f1score(anomaly_data):\n",
    "\n",
    "    MODEL_VERSION_SEQ = 'VAE_training_hparams/SmA/seq_vae'\n",
    "    threshold = -550\n",
    "    ckpt_file_name_seq = os.listdir(f'./{MODEL_VERSION_SEQ}/checkpoints/')[-1]\n",
    "    ckpt_file_path_seq = f'./{MODEL_VERSION_SEQ}/checkpoints/{ckpt_file_name_seq}'\n",
    "    with open(f'./{MODEL_VERSION_SEQ}/hparams.yaml') as f:\n",
    "        hparam_seq = yaml.safe_load(f)\n",
    "    model_seq = seq_vae.load_from_checkpoint(ckpt_file_path_seq, hparams=hparam_seq).to('cuda')\n",
    "\n",
    "    \n",
    "\n",
    "    fscore_arr = []\n",
    "    for anom_name in anomaly_data:\n",
    "        df_csv = pd.read_csv(f'preprocessed_data/SmA/{anom_name}_anomaly.csv').drop(columns=['CuStepNo ValueY']).reset_index(drop=True)\n",
    "        df_label = pd.read_csv(f'preprocessed_data/SmA/{anom_name}_anomaly.csv')['CuStepNo ValueY'].iloc[40000:45000].reset_index(drop=True)\n",
    "        scaler = StandardScaler().fit(pd.read_csv('preprocessed_data/SmA/id1_norm.csv').drop(columns=['CuStepNo ValueY']).iloc[8000:30000, :].reset_index(drop=True))\n",
    "        df_csv_sc = pd.DataFrame(scaler.transform(df_csv), columns=df_csv.columns, index=df_csv.index).iloc[40000:45000, :].reset_index(drop=True)\n",
    "        dataset_seq = seq_dataset(dataframe=df_csv_sc, **hparam_seq)\n",
    "        start_event = 0\n",
    "\n",
    "        all_residuals = []\n",
    "        for window in dataset_seq:\n",
    "            # Assuming 'window' is your input sequence\n",
    "            _, x = model_seq(window.unsqueeze(0).to('cuda'))  # Replace with your prediction method\n",
    "            all_residuals.extend(x['recon_loss'].flatten().detach().cpu().numpy())\n",
    "\n",
    "        all_residuals = np.array(all_residuals)\n",
    "        anom_labels = np.where(all_residuals < threshold, .5 , 0)\n",
    "\n",
    "        true_anomalies = np.ones(np.shape(all_residuals))\n",
    "        pred_anomalies = np.array(anom_labels) != 0\n",
    "        # True Positives (TP): True anomalies correctly predicted as anomalies\n",
    "        tp = np.sum([pred_anomalies[start_event:].any()])\n",
    "        # False Negatives (FN): True anomalies missed by the prediction\n",
    "        fn = 1 - tp\n",
    "        # Recall for events (Rec_e): Proportion of true anomalies correctly identified\n",
    "        rec_e = tp / (tp + fn) if (tp + fn) > 0 else 0\n",
    "        # Precision for the entire time series (Prec_t)\n",
    "        prec_t = precision_score(true_anomalies, pred_anomalies)\n",
    "        # Composite F-score\n",
    "        if prec_t == 0 and rec_e == 0:\n",
    "            fscore_c = 0\n",
    "        else:\n",
    "            fscore_c = 2 * rec_e * prec_t / (rec_e + prec_t)\n",
    "\n",
    "        fscore_arr.append(fscore_c)  \n",
    "        mean_fscore = np.mean(fscore_arr)    \n",
    "    return mean_fscore\n",
    "\n"
   ]
  },
  {
   "cell_type": "code",
   "execution_count": null,
   "metadata": {},
   "outputs": [],
   "source": [
    "interact(plot_like, anom=['id2', 'norm',  'id3', 'id4', 'id5', 'id6', 'id7', 'id8', 'id9', 'id10'])"
   ]
  },
  {
   "cell_type": "code",
   "execution_count": null,
   "metadata": {},
   "outputs": [],
   "source": [
    "anomaly=['id2', 'id3', 'id4', 'id5', 'id6', 'id7', 'id8', 'id9', 'id10']\n",
    "\n",
    "composite_f1score(anomaly)\n"
   ]
  },
  {
   "cell_type": "code",
   "execution_count": null,
   "metadata": {},
   "outputs": [],
   "source": []
  }
 ],
 "metadata": {
  "kernelspec": {
   "display_name": "Python 3",
   "language": "python",
   "name": "python3"
  },
  "language_info": {
   "codemirror_mode": {
    "name": "ipython",
    "version": 3
   },
   "file_extension": ".py",
   "mimetype": "text/x-python",
   "name": "python",
   "nbconvert_exporter": "python",
   "pygments_lexer": "ipython3",
   "version": "3.11.8"
  },
  "orig_nbformat": 4
 },
 "nbformat": 4,
 "nbformat_minor": 2
}
