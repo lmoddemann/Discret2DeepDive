{
 "cells": [
  {
   "cell_type": "markdown",
   "metadata": {},
   "source": [
    "# Evaluation of CatVAE discretization performance with preprocessed SmA\n",
    " Dataset\n",
    "Visual evaluation of the preciseness of discretization and meaningful categories compared to original states. <br>\n",
    "Wihtin the first subplot we plot a selection of measurement values from the dataset. <br>\n",
    "The second subplot includes the learned discretizations from the CatVAE indicated by the index for the x-axis. <br>\n",
    "The third subplot plots the loglikelihood of the CatVAE according to the the input data. <br>\n",
    "\n",
    "To make a statement about the change in states and likelihood, we plot one codeblock with nominal system behavior and the following with anomalous system (Deviation ID2) behavior. "
   ]
  },
  {
   "cell_type": "code",
   "execution_count": null,
   "metadata": {},
   "outputs": [],
   "source": [
    "cd .."
   ]
  },
  {
   "cell_type": "code",
   "execution_count": null,
   "metadata": {},
   "outputs": [],
   "source": [
    "import os\n",
    "import pandas as pd\n",
    "import torch\n",
    "import yaml\n",
    "import plotly.graph_objects as go\n",
    "from plotly.subplots import make_subplots\n",
    "import numpy as np\n",
    "from ipywidgets import interact\n",
    "\n",
    "from utils import standardize_data\n",
    "from datamodule import Dataset\n",
    "from catvae import CategoricalVAE\n",
    "\n",
    "np.random.seed(123)\n",
    "torch.manual_seed(123)\n"
   ]
  },
  {
   "cell_type": "code",
   "execution_count": null,
   "metadata": {},
   "outputs": [],
   "source": [
    "def plot_like(idx):\n",
    "    MODEL_VERSION = f'VAE_training_hparams/SmA/catvae/version_{idx}'\n",
    "    ckpt_file_name = os.listdir(f'./{MODEL_VERSION}/checkpoints/')[-1]\n",
    "    ckpt_file_path = f'./{MODEL_VERSION}/checkpoints/{ckpt_file_name}'\n",
    "    with open(f'./{MODEL_VERSION}/hparams.yaml') as f:\n",
    "        hparam = yaml.safe_load(f)\n",
    "    model = CategoricalVAE.load_from_checkpoint(ckpt_file_path, hparams=hparam[\"hparams\"]).to('cuda')\n",
    "\n",
    "    df_csv = pd.read_csv('preprocessed_data/SmA/id1_norm.csv').drop(columns=['CuStepNo ValueY']).iloc[10000:30000].reset_index(drop=True)\n",
    "    labels_orig = pd.read_csv('preprocessed_data/SmA/id1_norm.csv')['CuStepNo ValueY'].iloc[10000:30000].reset_index(drop=True)\n",
    "    df_sc = standardize_data(df_csv, 'scaler_SmA.pkl')\n",
    "    df = Dataset(dataframe = df_sc)[:][0:]\n",
    "    new_categories = pd.DataFrame(labels_orig)\n",
    "    \n",
    "    likelihood = pd.DataFrame(model.function_likelihood(torch.tensor(df).to(device='cuda')).cpu().detach()).rolling(10).median().fillna(method='bfill')\n",
    "    pzx_logits, pzx, mu, sigma, pxz, z = model.get_states(torch.tensor(df).to(device='cuda'))\n",
    "    df_states = pd.DataFrame(torch.zeros(z.shape).to(device='cuda').scatter(1, torch.argmax(pzx_logits, dim=1).unsqueeze(1), 1).cpu().detach().numpy(), index=pd.DataFrame(df).index).astype(int)\n",
    "    cats = pd.DataFrame(df_states.idxmax(axis=1), index=pd.DataFrame(df).index)  \n",
    "\n",
    "    cluster_assignments = cats[cats.columns[0]]\n",
    "    class_assignments = labels_orig[:len(cluster_assignments)]\n",
    "    assert len(cluster_assignments) == len(class_assignments)\n",
    "    \n",
    "    num_samples = len(cluster_assignments)\n",
    "    num_clusters = len(np.unique(cluster_assignments))\n",
    "    num_classes = len(np.unique(class_assignments))\n",
    "    \n",
    "    cluster_class_counts = {cluster_: {class_: 0 for class_ in np.unique(class_assignments)}\n",
    "                            for cluster_ in np.unique(cluster_assignments)}\n",
    "    \n",
    "    for cluster_, class_ in zip(cluster_assignments, class_assignments):\n",
    "        cluster_class_counts[cluster_][class_] += 1\n",
    "        \n",
    "    total_intersection = sum([max(list(class_dict.values())) for cluster_, class_dict in cluster_class_counts.items()])\n",
    "    purity = total_intersection/num_samples\n",
    "    print(purity)\n",
    "\n",
    "    fig = make_subplots(rows=3, cols=1, shared_xaxes=True)\n",
    "    for i in range(0,3):\n",
    "        fig.add_trace(go.Scatter(x=pd.DataFrame(df_sc).index, y=pd.DataFrame(df_sc)[pd.DataFrame(df_sc).columns[i]], name=df_sc.columns[i],  mode='markers'), \n",
    "                      row=1, col=1)\n",
    "    fig.add_trace(go.Scatter(x=pd.DataFrame(df_sc).index, y=labels_orig, mode='markers', name='original categories'), row=2, col=1)\n",
    "    fig.add_trace(go.Scatter(x = pd.DataFrame(df_sc).index, y=cats[cats.columns[0]], name='category', mode='lines'),row=3, col=1)\n",
    "    return fig\n",
    "\n",
    "# computation of total purity\n",
    "def calc_purity():\n",
    "    total_purity = []\n",
    "    for idx in range(0,10):     \n",
    "        MODEL_VERSION = f'VAE_training_hparams/SmA/catvae/version_{idx}'\n",
    "        ckpt_file_name = os.listdir(f'./{MODEL_VERSION}/checkpoints/')[-1]\n",
    "        ckpt_file_path = f'./{MODEL_VERSION}/checkpoints/{ckpt_file_name}'\n",
    "        with open(f'./{MODEL_VERSION}/hparams.yaml') as f:\n",
    "            hparam = yaml.safe_load(f)\n",
    "        model = CategoricalVAE.load_from_checkpoint(ckpt_file_path, hparams=hparam[\"hparams\"]).to('cuda')\n",
    "\n",
    "        df = pd.read_csv('preprocessed_data/SmA/id1_norm.csv').reset_index(drop=True).drop(columns=['CuStepNo ValueY'])\n",
    "        df_label = pd.read_csv('preprocessed_data/SmA/id1_norm.csv')['CuStepNo ValueY'].iloc[10000:30000].reset_index(drop=True)\n",
    "        df_scaled = standardize_data(df, f'scaler_siemens_train.pkl')\n",
    "        df = Dataset(dataframe = df_scaled)[:][10000:30000]\n",
    "\n",
    "        likelihood = pd.DataFrame(model.function_likelihood(torch.tensor(df).to(device='cuda')).cpu().detach()).rolling(10).median().fillna(method='bfill')\n",
    "        pzx_logits, pzx, mu, sigma, pxz, z = model.get_states(torch.tensor(df).to(device='cuda'))\n",
    "        df_states = pd.DataFrame(torch.zeros(z.shape).to(device='cuda').scatter(1, torch.argmax(pzx_logits, dim=1).unsqueeze(1), 1).cpu().detach().numpy(), index=pd.DataFrame(df).index).astype(int)\n",
    "        cats = pd.DataFrame(df_states.idxmax(axis=1), index=pd.DataFrame(df).index)  \n",
    "\n",
    "        cluster_assignments = cats[cats.columns[0]]\n",
    "        class_assignments = df_label[:len(cluster_assignments)]\n",
    "        assert len(cluster_assignments) == len(class_assignments)\n",
    "        \n",
    "        num_samples = len(cluster_assignments)\n",
    "        num_clusters = len(np.unique(cluster_assignments))\n",
    "        num_classes = len(np.unique(class_assignments))\n",
    "        \n",
    "        cluster_class_counts = {cluster_: {class_: 0 for class_ in np.unique(class_assignments)}\n",
    "                                for cluster_ in np.unique(cluster_assignments)}\n",
    "        \n",
    "        for cluster_, class_ in zip(cluster_assignments, class_assignments):\n",
    "            cluster_class_counts[cluster_][class_] += 1\n",
    "            \n",
    "        total_intersection = sum([max(list(class_dict.values())) for cluster_, class_dict in cluster_class_counts.items()])\n",
    "        \n",
    "        purity = total_intersection/num_samples\n",
    "        total_purity.append(purity)\n",
    "    mean = sum(total_purity)/len(total_purity)\n",
    "    variance = sum([((x - mean) ** 2) for x in total_purity]) / len(total_purity) \n",
    "    std = variance ** 0.5\n",
    "    return {'mean ':mean, 'std ':std}\n"
   ]
  },
  {
   "cell_type": "code",
   "execution_count": null,
   "metadata": {},
   "outputs": [],
   "source": [
    "# plot of nominal data\n",
    "interact(plot_like, idx=range(10))"
   ]
  },
  {
   "cell_type": "code",
   "execution_count": null,
   "metadata": {},
   "outputs": [],
   "source": [
    "calc_purity()"
   ]
  }
 ],
 "metadata": {
  "kernelspec": {
   "display_name": "Python 3",
   "language": "python",
   "name": "python3"
  },
  "language_info": {
   "codemirror_mode": {
    "name": "ipython",
    "version": 3
   },
   "file_extension": ".py",
   "mimetype": "text/x-python",
   "name": "python",
   "nbconvert_exporter": "python",
   "pygments_lexer": "ipython3",
   "version": "3.11.8"
  },
  "orig_nbformat": 4
 },
 "nbformat": 4,
 "nbformat_minor": 2
}
