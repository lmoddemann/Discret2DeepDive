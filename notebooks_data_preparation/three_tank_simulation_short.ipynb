{
 "cells": [
  {
   "cell_type": "markdown",
   "metadata": {},
   "source": [
    "# Preparation of Three Tank Simulation Datasets\n",
    "Execute the following lines of code for the generation of the datasets. <br>\n",
    "The Simulation will output a normal sequence of the tank process and different datasets including anomalies. <br>\n",
    "The anomalies will be a fault in valve v12, v23, v3 and a fault in the inflow q1.<br>\n",
    "How the simulation is build and which parameters are included can be read within the paper of Steude et. al (https://doi.org/10.1016/j.ifacol.2022.07.099)"
   ]
  },
  {
   "cell_type": "code",
   "execution_count": 1,
   "metadata": {},
   "outputs": [
    {
     "name": "stdout",
     "output_type": "stream",
     "text": [
      "/home/jovyan/etfa_discret2deepdive\n"
     ]
    }
   ],
   "source": [
    "cd .."
   ]
  },
  {
   "cell_type": "code",
   "execution_count": 2,
   "metadata": {},
   "outputs": [],
   "source": [
    "from typing import Tuple\n",
    "import numpy as np\n",
    "import pandas as pd\n",
    "from scipy.integrate import odeint\n",
    "from tqdm import tqdm"
   ]
  },
  {
   "cell_type": "code",
   "execution_count": 3,
   "metadata": {},
   "outputs": [],
   "source": [
    "class ThreeTankSimulation:\n",
    "    \"\"\"Simulates the three tank system.\n",
    "    The system is simulated using the scipy odeint function.\n",
    "    \"\"\"\n",
    "    def __init__(self, tank_1_lvl=0, tank_2_lvl=0, tank_3_lvl=0, seed=42):\n",
    "        self.tank_levels = np.array([tank_1_lvl, tank_2_lvl, tank_3_lvl])\n",
    "        self.seed = seed\n",
    "        self.state_df = pd.DataFrame(columns=[\"q1\", \"q3\", \"kv1\", \"kv2\", \"kv3\", \"duration\"])\n",
    "\n",
    "    def add_state(self, q1: float, q3: float, kv1: float, kv2: float, kv3: float, duration: int, name=None) -> None:\n",
    "        \"\"\"Add a state to the state dataframe.\n",
    "        A state consists of specific settings to the system's parameters.\n",
    "        Args:\n",
    "            q1 (float): inflow tank 1\n",
    "            q3 (float): inflow tank 3\n",
    "            kv1 (float): coefficient of the valve between tank 1 and 2\n",
    "            kv2 (float): coefficient of the valve between tank 2 and 3\n",
    "            kv3 (float): coefficient of the outgoing valve on tank 3\n",
    "            duration (int): number of time steps of the state\n",
    "            name (string): the name of the state\n",
    "        \"\"\"\n",
    "        if name is not None:\n",
    "            self.state_df.loc[name] = [q1, q3, kv1, kv2, kv3, duration]\n",
    "        else:\n",
    "            self.state_df.append(dict(q1=q1, q3=q3, kv1=kv1, kv2=kv2, kv3=kv3, duration=duration),\n",
    "                                 ignore_index=True)\n",
    "\n",
    "    @staticmethod\n",
    "    def _system_dynamics_function(x, t, q1, q3, kv1, kv2, kv3):\n",
    "        # ensure non-negative tank levels\n",
    "        x1, x2, x3 = x * (x > 0)\n",
    "        # ODE\n",
    "        dh1_dt = q1 - kv1 * np.sign(x1 - x2) * np.sqrt(np.abs(x1 - x2))\n",
    "        dh2_dt = kv1 * np.sign(x1 - x2) * np.sqrt(np.abs(x1 - x2)) \\\n",
    "                 - kv2 * np.sign(x2 - x3) * np.sqrt(np.abs(x2 - x3))\n",
    "        dh3_dt = q3 + kv2 * np.sign(x2 - x3) * np.sqrt(np.abs(x2 - x3)) - kv3 * np.sqrt(x3)\n",
    "\n",
    "        return dh1_dt, dh2_dt, dh3_dt\n",
    "\n",
    "    def _compute_section(self, duration: int = 10, x0: np.array = np.array([30, 10, 50]),\n",
    "                         kv1: float = 1, kv2: float = 1, kv3: float = 1,\n",
    "                         q1: float = 1, q3: float = 1):\n",
    "        t = np.array(range(duration))\n",
    "        y = odeint(self._system_dynamics_function, x0, t, (q1, q3, kv1, kv2, kv3))\n",
    "        # non-negativity\n",
    "        y = y * (y > 0)\n",
    "        y_stop = y[-1, :]\n",
    "        return y, y_stop\n",
    "\n",
    "    @staticmethod\n",
    "    def _duplicate_row(row, factor):\n",
    "        return pd.concat([row.copy()] * factor, axis = 1)\n",
    "\n",
    "    def _configuration_seq(self, cycle: list, nb_of_cycles: int,\n",
    "                           sd_q: float, sd_kv: float, sd_dur: float,\n",
    "                           leaky: bool, periodic_inflow: bool) -> Tuple[pd.DataFrame, pd.DataFrame]:\n",
    "        \"\"\"generates configuration dataframes\n",
    "        The configuration dataframe describes the state at every time step.\n",
    "        Outputs original state configuration and configuration with noise.\n",
    "        \"\"\"\n",
    "        # generate cycle of states\n",
    "        seq = list()\n",
    "        for i in range(nb_of_cycles):\n",
    "            for state in cycle:\n",
    "                if type(state) is str:\n",
    "                    seq.append(self.state_df.loc[state])\n",
    "                else:\n",
    "                    seq.append((self.state_df.iloc[state, :]))\n",
    "        seq_df = pd.concat(seq, axis=1).T.astype({\"duration\": int})\n",
    "        seq_len = seq_df.shape[0]\n",
    "\n",
    "        # add periodic inflow\n",
    "        if periodic_inflow:\n",
    "            amplitude = 0.5 * seq_df[\"q1\"].max()\n",
    "            wave = amplitude * np.cos(np.linspace(np.pi, 5*np.pi, 2000))\n",
    "\n",
    "            q1_mask = seq_df[\"q1\"] > 0\n",
    "            q3_mask = seq_df[\"q3\"] > 0\n",
    "            \n",
    "            seq_df.loc[q1_mask, \"q1\"] += wave[:q1_mask.sum()]\n",
    "            seq_df.loc[q3_mask, \"q3\"] += wave[:q3_mask.sum()]\n",
    "\n",
    "        # add noise\n",
    "        np.random.seed(self.seed)\n",
    "        seq_df_noise = seq_df.copy()\n",
    "        if sd_q is not None:\n",
    "            q_noise = np.random.normal(0, sd_q, 2 * seq_len)\n",
    "            seq_df_noise[\"q1\"] = seq_df[\"q1\"] + q_noise[:seq_len]\n",
    "            seq_df_noise[\"q3\"] = seq_df[\"q3\"] + q_noise[seq_len:]\n",
    "            if not leaky:\n",
    "                seq_df_noise[\"q1\"].where(seq_df[\"q1\"] > 0, other=0, inplace=True)  # no leaky inflow\n",
    "                seq_df_noise[\"q3\"].where(seq_df[\"q3\"] > 0, other=0, inplace=True)  # (set back to 0 if no inflow)\n",
    "        if sd_kv is not None:\n",
    "            kv_noise = np.random.normal(0, sd_kv, 3 * seq_len)\n",
    "            seq_df_noise[\"kv1\"] = seq_df[\"kv1\"] + kv_noise[:seq_len]\n",
    "            seq_df_noise[\"kv2\"] = seq_df[\"kv2\"] + kv_noise[seq_len:2*seq_len]\n",
    "            seq_df_noise[\"kv3\"] = seq_df[\"kv3\"] + kv_noise[2*seq_len:]\n",
    "            if not leaky:\n",
    "                seq_df_noise[\"kv1\"].where(seq_df[\"kv1\"] > 0, other=0, inplace=True)  # no leaky valve\n",
    "                seq_df_noise[\"kv2\"].where(seq_df[\"kv2\"] > 0, other=0, inplace=True)\n",
    "                seq_df_noise[\"kv3\"].where(seq_df[\"kv3\"] > 0, other=0, inplace=True)\n",
    "        if sd_dur is not None:\n",
    "            dur_noise = np.random.normal(0, sd_dur, seq_len)\n",
    "            seq_df_noise[\"duration\"] = round(seq_df[\"duration\"] + dur_noise).astype(int)\n",
    "        # no negative inflow etc.\n",
    "        seq_df = seq_df.where(seq_df >= 0, 0)\n",
    "        seq_df_noise = seq_df_noise.where(seq_df_noise >= 0, 0) \n",
    "\n",
    "        return seq_df, seq_df_noise\n",
    "\n",
    "    @staticmethod\n",
    "    def _export_config(seq_df, seq_df_noise, export_path):\n",
    "        \"\"\"exports state configuration dataframe\n",
    "        Transforms the dataframe so that the state at every time step is exported.\n",
    "        \"\"\"\n",
    "        seq0 = list()\n",
    "        seq0_noise = list()\n",
    "        for (_, row), (_, row_noise) in zip(seq_df.iterrows(), seq_df_noise.iterrows()):\n",
    "            duration = int(row_noise.duration)  # actual duration\n",
    "            seq0 += [row] * duration\n",
    "            seq0_noise += [row_noise] * duration\n",
    "        seq0_df = pd.concat(seq0_noise, axis=1).T\n",
    "        seq0_df.to_csv(f\"{export_path[:-4]}_config.csv\", index=False)\n",
    "\n",
    "    def simulate(self, cycle_list: list, nb_of_cycles_list: list,\n",
    "                 sd_q: float = None, sd_kv: float = None, sd_dur: float = None, sd_white_noise: float = None, \n",
    "                 leaky: bool = False, periodic_inflow = False,\n",
    "                 export_path: str = None) -> np.array:\n",
    "        \"\"\"Simulates the dynamics in the three-tank system\n",
    "        Args:\n",
    "            cycle (list): sequence of states that compose a typical cycle.\n",
    "                          Either list of integers or list of state names.\n",
    "            nb_of_cycles (int): number of successive cycles to simulate\n",
    "            sd_q (float): if set, white noise with this standard deviation is added to the inflow\n",
    "            sd_kv (float): if set, white noise with this standard deviation is added to the valve coefficients\n",
    "            sd_dur (float): if set, white noise with this standard deviation is added to the duration\n",
    "            leaky (bool): if true, add noise on closed valves or stopped inflow\n",
    "            periodic_inflow (bool): if true, add periodic variation to the inflow\n",
    "            export_path (str): if set, save simulation data at export path\n",
    "        \"\"\"\n",
    "        seq_denoised_list = list()\n",
    "        seq_list = list()\n",
    "        cycle_names = []  # New list to store cycle names               \n",
    "        for cycle, nb_of_cycles in zip(cycle_list, nb_of_cycles_list):\n",
    "            seq_denoised, seq = self._configuration_seq(cycle, nb_of_cycles, sd_q, sd_kv, sd_dur, leaky, periodic_inflow)\n",
    "            seq_denoised_list.append(seq_denoised)\n",
    "            seq_list.append(seq)\n",
    "            cycle_names.extend([cycle] * len(seq_denoised))  # Repeat cycle name for each row\n",
    "        \n",
    "        seq_denoised = pd.concat(seq_denoised_list, axis=0)\n",
    "        seq = pd.concat(seq_list, axis=0)\n",
    "        \n",
    "        y_ls = []\n",
    "        cycles_ls = []\n",
    "        y_stop = self.tank_levels\n",
    "        # for config in tqdm(seq.itertuples(), total=len(seq)):\n",
    "        for config, cycle_name in tqdm(zip(seq.itertuples(), cycle_names), total=len(seq)):\n",
    "            y, y_stop = self._compute_section(duration=config.duration, x0=y_stop,\n",
    "                                            kv1=config.kv1, kv2=config.kv2, kv3=config.kv3,\n",
    "                                            q1=config.q1, q3=config.q3)\n",
    "            \n",
    "            y_ls.append(y)\n",
    "            cycles = [config.Index] * config.duration\n",
    "            cycles_ls.append(cycles)\n",
    "        y_out = np.concatenate(y_ls, axis=0)\n",
    "        cycles_ls = np.concatenate(cycles_ls, axis=0)\n",
    "\n",
    "        if sd_white_noise is not None:\n",
    "            np.random.seed(self.seed)\n",
    "            y_out += np.random.normal(0, sd_white_noise, y_out.shape)\n",
    "\n",
    "        if export_path is not None:\n",
    "            y_df = pd.DataFrame(y_out, columns=['h1', 'h2', 'h3'])\n",
    "            y_df['cycle_name'] = cycles_ls  # Add cycle_name column\n",
    "            y_df.iloc[3500:,:].reset_index(drop=True).to_csv(export_path, index=False)\n",
    "            self._export_config(seq_denoised, seq, export_path)\n",
    "\n",
    "        return y_out\n"
   ]
  },
  {
   "cell_type": "markdown",
   "metadata": {},
   "source": [
    "### Creation of a high repetition of first cycle of cycle list with (15, 1, 15)\n"
   ]
  },
  {
   "cell_type": "code",
   "execution_count": 4,
   "metadata": {},
   "outputs": [],
   "source": [
    "tank_1_lvl=7\n",
    "tank_2_lvl=3\n",
    "tank_3_lvl=0\n",
    "q = 0.1 # inflow\n",
    "kv = 0.1 # valve coefficient\n",
    "duration = 50\n",
    "duration_anomaly = 50\n",
    "\n",
    "system = ThreeTankSimulation(tank_1_lvl=tank_1_lvl, tank_2_lvl=tank_2_lvl, tank_3_lvl=tank_3_lvl)\n",
    "system.add_state(q1=q, q3=0, kv1=0,  kv2=0,  kv3=0,  duration=duration, name=\"q1\")\n",
    "system.add_state(q1=q, q3=0, kv1=0,  kv2=0,  kv3=0,  duration=duration, name=\"q1_2\")\n",
    "system.add_state(q1=0, q3=0, kv1=kv, kv2=0,  kv3=0,  duration=duration, name=\"v12\")\n",
    "system.add_state(q1=0, q3=0, kv1=kv, kv2=0,  kv3=0,  duration=duration, name=\"v12_2\")\n",
    "system.add_state(q1=0, q3=0, kv1=0,  kv2=kv, kv3=0,  duration=duration, name=\"v23\")\n",
    "system.add_state(q1=0, q3=0, kv1=0,  kv2=kv, kv3=0,  duration=duration, name=\"v23_2\")\n",
    "system.add_state(q1=0, q3=0, kv1=0,  kv2=0,  kv3=kv, duration=duration, name=\"v3\")\n",
    "system.add_state(q1=0, q3=0, kv1=0,  kv2=0,  kv3=0,  duration=duration, name=\"rest\")\n",
    "system.add_state(q1=q, q3=0, kv1=0,  kv2=0,  kv3=kv, duration=duration, name=\"q1+v3\")\n",
    "system.add_state(q1=0, q3=0, kv1=kv, kv2=kv, kv3=0,  duration=duration, name=\"v12+v23\")\n",
    "system.add_state(q1=0, q3=q, kv1=0,  kv2=0,  kv3=0,  duration=duration, name=\"q3\")\n",
    "\n",
    "# faulty states\n",
    "system.add_state(q1=0, q3=0, kv1=kv * 7, kv2=0,  kv3=0,  duration=duration_anomaly, name=\"v12-faulty\")\n",
    "system.add_state(q1=0, q3=0, kv1=0,  kv2=kv * 7, kv3=0,  duration=duration_anomaly, name=\"v23-faulty\")\n",
    "system.add_state(q1=0, q3=0, kv1=0,  kv2=0,  kv3=kv * 0.01, duration=duration_anomaly, name=\"v3-faulty\")\n",
    "system.add_state(q1=1, q3=0, kv1=0,  kv2=0,  kv3=0, duration=duration_anomaly, name=\"q1-faulty\")\n",
    "system.add_state(q1=0, q3=0, kv1=0,  kv2=0,  kv3=0,  duration=duration_anomaly, name=\"rest_faulty\")\n",
    "system.add_state(q1=q, q3=0, kv1=0,  kv2=0,  kv3=kv, duration=duration_anomaly, name=\"q1+v3_faulty\")\n",
    "system.add_state(q1=q, q3=0, kv1=0, kv2=kv, kv3=0, duration=duration_anomaly, name='q1+v23_faulty')\n",
    "system.add_state(q1=0, q3=0, kv1=kv, kv2=0,  kv3=kv,  duration=duration_anomaly, name=\"v12+v3_faulty\")\n",
    "system.add_state(q1=0, q3=0, kv1=kv, kv2=kv, kv3=0,  duration=duration_anomaly, name=\"v12+v23_faulty\")\n",
    "\n",
    "# sd_noise = 0.001\n",
    "# sd_q = 0.001  # for one scenario, we add noise on the inflow\n",
    "sd_noise = 0.1\n",
    "sd_q = 0.05\n",
    "sd_dur = duration * 0.1  # for one scenario, we add noise on the duration"
   ]
  },
  {
   "cell_type": "code",
   "execution_count": 5,
   "metadata": {},
   "outputs": [
    {
     "name": "stderr",
     "output_type": "stream",
     "text": [
      "100%|██████████| 140/140 [00:06<00:00, 22.93it/s]\n"
     ]
    },
    {
     "data": {
      "text/plain": [
       "array([[ 7.04967142,  2.98617357,  0.06476885],\n",
       "       [ 7.25230299,  2.97658466, -0.0234137 ],\n",
       "       [ 7.35792128,  3.07674347, -0.04694744],\n",
       "       ...,\n",
       "       [13.2760846 , 10.41790394,  0.82922563],\n",
       "       [13.24212143, 10.33615308,  0.82147137],\n",
       "       [13.43363554, 10.40107797,  0.37206751]])"
      ]
     },
     "execution_count": 5,
     "metadata": {},
     "output_type": "execute_result"
    }
   ],
   "source": [
    "# Simulation of normal system states\n",
    "system.simulate(cycle_list=[\n",
    "    [\"q1\", \"v12\", \"v23\", \"q1\", \"v12\", \"v23\", \"v3\"],\n",
    "    [\"q1\", \"v12\", \"v23\", \"q1\", \"v12\", \"v23\", \"v3\"],\n",
    "    [\"q1\", \"v12\", \"v23\", \"q1\", \"v12\", \"v23\", \"v3\"]\n",
    "    ],\n",
    "    nb_of_cycles_list=[4, 1, 15],\n",
    "    sd_q=None, sd_kv=None, sd_dur=None, sd_white_noise=sd_noise,\n",
    "    periodic_inflow=False,\n",
    "    export_path=\"preprocessed_data/tank_simulation/norm.csv\"\n",
    ")"
   ]
  },
  {
   "cell_type": "code",
   "execution_count": 6,
   "metadata": {},
   "outputs": [
    {
     "name": "stderr",
     "output_type": "stream",
     "text": [
      "100%|██████████| 140/140 [00:05<00:00, 27.36it/s]\n"
     ]
    },
    {
     "data": {
      "text/plain": [
       "array([[ 7.04967142,  2.98617357,  0.06476885],\n",
       "       [ 7.25230299,  2.97658466, -0.0234137 ],\n",
       "       [ 7.35792128,  3.07674347, -0.04694744],\n",
       "       ...,\n",
       "       [13.64128699, 10.73967233,  0.91808806],\n",
       "       [13.60732381, 10.65792147,  0.90537835],\n",
       "       [13.79883792, 10.72284636,  0.45101904]])"
      ]
     },
     "execution_count": 6,
     "metadata": {},
     "output_type": "execute_result"
    }
   ],
   "source": [
    "# Simulation of an anomaly in q1 state\n",
    "system.simulate(cycle_list=[\n",
    "    [\"q1\", \"v12\", \"v23\", \"q1\", \"v12\", \"v23\", \"v3\"],\n",
    "    [\"q1\", \"v12\", \"v23\", \"q1-faulty\", \"v12\", \"v23\", \"v3\"],\n",
    "    [\"q1\", \"v12\", \"v23\", \"q1\", \"v12\", \"v23\", \"v3\"]\n",
    "    ],\n",
    "    nb_of_cycles_list=[4, 1, 15],\n",
    "    sd_q=None, sd_kv=None, sd_dur=None, sd_white_noise=sd_noise,\n",
    "    periodic_inflow=False,\n",
    "    export_path=\"preprocessed_data/tank_simulation/q1_50s_faulty.csv\"\n",
    ")"
   ]
  },
  {
   "cell_type": "code",
   "execution_count": 7,
   "metadata": {},
   "outputs": [
    {
     "name": "stderr",
     "output_type": "stream",
     "text": [
      "100%|██████████| 140/140 [00:05<00:00, 24.08it/s]\n"
     ]
    },
    {
     "data": {
      "text/plain": [
       "array([[ 7.04967142,  2.98617357,  0.06476885],\n",
       "       [ 7.25230299,  2.97658466, -0.0234137 ],\n",
       "       [ 7.35792128,  3.07674347, -0.04694744],\n",
       "       ...,\n",
       "       [13.27608458, 10.41790396,  0.82922562],\n",
       "       [13.2421214 , 10.33615311,  0.82147136],\n",
       "       [13.43363551, 10.401078  ,  0.3720675 ]])"
      ]
     },
     "execution_count": 7,
     "metadata": {},
     "output_type": "execute_result"
    }
   ],
   "source": [
    "# Simulation of an anomaly in v12 state\n",
    "system.simulate(cycle_list=[\n",
    "    [\"q1\", \"v12\", \"v23\", \"q1\", \"v12\", \"v23\", \"v3\"],\n",
    "    [\"q1\", \"v12\", \"v23\", \"q1\", \"v12-faulty\", \"v23\", \"v3\"],\n",
    "    [\"q1\", \"v12\", \"v23\", \"q1\", \"v12\", \"v23\", \"v3\"]\n",
    "    ],\n",
    "    nb_of_cycles_list=[4, 1, 15],\n",
    "    sd_q=None, sd_kv=None, sd_dur=None, sd_white_noise=sd_noise,\n",
    "    periodic_inflow=False,\n",
    "    export_path=\"preprocessed_data/tank_simulation/v12_50s_faulty.csv\"\n",
    ")"
   ]
  },
  {
   "cell_type": "code",
   "execution_count": 8,
   "metadata": {},
   "outputs": [
    {
     "name": "stderr",
     "output_type": "stream",
     "text": [
      " 21%|██▏       | 30/140 [00:01<00:03, 29.94it/s]/tmp/ipykernel_47596/892323876.py:44: ODEintWarning: Excess work done on this call (perhaps wrong Dfun type). Run with full_output = 1 to get quantitative information.\n",
      "  y = odeint(self._system_dynamics_function, x0, t, (q1, q3, kv1, kv2, kv3))\n",
      "100%|██████████| 140/140 [00:07<00:00, 18.33it/s]\n"
     ]
    },
    {
     "data": {
      "text/plain": [
       "array([[ 7.04967142,  2.98617357,  0.06476885],\n",
       "       [ 7.25230299,  2.97658466, -0.0234137 ],\n",
       "       [ 7.35792128,  3.07674347, -0.04694744],\n",
       "       ...,\n",
       "       [13.29385432, 10.43353636,  0.83346009],\n",
       "       [13.25989115, 10.35178551,  0.82546332],\n",
       "       [13.45140526, 10.4167104 ,  0.37581695]])"
      ]
     },
     "execution_count": 8,
     "metadata": {},
     "output_type": "execute_result"
    }
   ],
   "source": [
    "# Simulation of an anomaly in v23 state\n",
    "system.simulate(cycle_list=[\n",
    "    [\"q1\", \"v12\", \"v23\", \"q1\", \"v12\", \"v23\", \"v3\"],\n",
    "    [\"q1\", \"v12\", \"v23\", \"q1\", \"v12\", \"v23-faulty\", \"v3\"],\n",
    "    [\"q1\", \"v12\", \"v23\", \"q1\", \"v12\", \"v23\", \"v3\"]\n",
    "    ],\n",
    "    nb_of_cycles_list=[4, 1, 15],\n",
    "    sd_q=None, sd_kv=None, sd_dur=None, sd_white_noise=sd_noise,\n",
    "    periodic_inflow=False,\n",
    "    export_path=\"preprocessed_data/tank_simulation/v23_50s_faulty.csv\"\n",
    ")"
   ]
  },
  {
   "cell_type": "code",
   "execution_count": 9,
   "metadata": {},
   "outputs": [
    {
     "name": "stderr",
     "output_type": "stream",
     "text": [
      "100%|██████████| 140/140 [00:06<00:00, 20.91it/s]\n"
     ]
    },
    {
     "data": {
      "text/plain": [
       "array([[ 7.04967142,  2.98617357,  0.06476885],\n",
       "       [ 7.25230299,  2.97658466, -0.0234137 ],\n",
       "       [ 7.35792128,  3.07674347, -0.04694744],\n",
       "       ...,\n",
       "       [13.33779887, 10.472206  ,  0.84397157],\n",
       "       [13.3038357 , 10.39045515,  0.83537569],\n",
       "       [13.49534981, 10.45538004,  0.38513021]])"
      ]
     },
     "execution_count": 9,
     "metadata": {},
     "output_type": "execute_result"
    }
   ],
   "source": [
    "# Simulation of an anomaly in v3 state\n",
    "system.simulate(cycle_list=[\n",
    "    [\"q1\", \"v12\", \"v23\", \"q1\", \"v12\", \"v23\", \"v3\"],\n",
    "    [\"q1\", \"v12\", \"v23\", \"q1\", \"v12\", \"v23\", \"v3-faulty\"],\n",
    "    [\"q1\", \"v12\", \"v23\", \"q1\", \"v12\", \"v23\", \"v3\"]\n",
    "    ],\n",
    "    nb_of_cycles_list=[4, 1, 15],\n",
    "    sd_q=None, sd_kv=None, sd_dur=None, sd_white_noise=sd_noise,\n",
    "    periodic_inflow=False,\n",
    "    export_path=\"preprocessed_data/tank_simulation/v3_50s_faulty.csv\"\n",
    ")"
   ]
  },
  {
   "cell_type": "markdown",
   "metadata": {},
   "source": [
    "### Changing anomaly duration to 1sec with cycle repettitions (15, 1, 15)"
   ]
  },
  {
   "cell_type": "code",
   "execution_count": 10,
   "metadata": {},
   "outputs": [],
   "source": [
    "duration_anomaly = 1\n",
    "sd_noise = 0.1\n",
    "sd_q = 0.05  # for one scenario, we add noise on the inflow\n",
    "sd_dur = duration * 0.1  # for one scenario, we add noise on the duration"
   ]
  },
  {
   "cell_type": "code",
   "execution_count": 11,
   "metadata": {},
   "outputs": [
    {
     "name": "stderr",
     "output_type": "stream",
     "text": [
      "100%|██████████| 140/140 [00:05<00:00, 27.70it/s]\n"
     ]
    },
    {
     "data": {
      "text/plain": [
       "array([[ 7.04967142,  2.98617357,  0.06476885],\n",
       "       [ 7.25230299,  2.97658466, -0.0234137 ],\n",
       "       [ 7.35792128,  3.07674347, -0.04694744],\n",
       "       ...,\n",
       "       [13.64128699, 10.73967233,  0.91808806],\n",
       "       [13.60732381, 10.65792147,  0.90537835],\n",
       "       [13.79883792, 10.72284636,  0.45101904]])"
      ]
     },
     "execution_count": 11,
     "metadata": {},
     "output_type": "execute_result"
    }
   ],
   "source": [
    "# Simulation of an anomaly in q1 state\n",
    "system.simulate(cycle_list=[\n",
    "    [\"q1\", \"v12\", \"v23\", \"q1\", \"v12\", \"v23\", \"v3\"],\n",
    "    [\"q1\", \"v12\", \"v23\", \"q1-faulty\", \"v12\", \"v23\", \"v3\"],\n",
    "    [\"q1\", \"v12\", \"v23\", \"q1\", \"v12\", \"v23\", \"v3\"]\n",
    "    ],\n",
    "    nb_of_cycles_list=[4, 1, 15],\n",
    "    sd_q=None, sd_kv=None, sd_dur=None, sd_white_noise=sd_noise,\n",
    "    periodic_inflow=False,\n",
    "    export_path=\"preprocessed_data/tank_simulation/q1short1s_faulty.csv\"\n",
    ")"
   ]
  },
  {
   "cell_type": "code",
   "execution_count": 12,
   "metadata": {},
   "outputs": [
    {
     "name": "stderr",
     "output_type": "stream",
     "text": [
      "100%|██████████| 140/140 [00:05<00:00, 23.84it/s]\n"
     ]
    },
    {
     "data": {
      "text/plain": [
       "array([[ 7.04967142,  2.98617357,  0.06476885],\n",
       "       [ 7.25230299,  2.97658466, -0.0234137 ],\n",
       "       [ 7.35792128,  3.07674347, -0.04694744],\n",
       "       ...,\n",
       "       [13.27608458, 10.41790396,  0.82922562],\n",
       "       [13.2421214 , 10.33615311,  0.82147136],\n",
       "       [13.43363551, 10.401078  ,  0.3720675 ]])"
      ]
     },
     "execution_count": 12,
     "metadata": {},
     "output_type": "execute_result"
    }
   ],
   "source": [
    "# Simulation of an anomaly in v12 state\n",
    "system.simulate(cycle_list=[\n",
    "    [\"q1\", \"v12\", \"v23\", \"q1\", \"v12\", \"v23\", \"v3\"],\n",
    "    [\"q1\", \"v12\", \"v23\", \"q1\", \"v12-faulty\", \"v23\", \"v3\"],\n",
    "    [\"q1\", \"v12\", \"v23\", \"q1\", \"v12\", \"v23\", \"v3\"]\n",
    "    ],\n",
    "    nb_of_cycles_list=[4, 1, 15],\n",
    "    sd_q=None, sd_kv=None, sd_dur=None, sd_white_noise=sd_noise,\n",
    "    periodic_inflow=False,\n",
    "    export_path=\"preprocessed_data/tank_simulation/v12short1s_faulty.csv\"\n",
    ")"
   ]
  },
  {
   "cell_type": "code",
   "execution_count": 13,
   "metadata": {},
   "outputs": [
    {
     "name": "stderr",
     "output_type": "stream",
     "text": [
      " 21%|██▏       | 30/140 [00:01<00:03, 29.83it/s]/tmp/ipykernel_47596/892323876.py:44: ODEintWarning: Excess work done on this call (perhaps wrong Dfun type). Run with full_output = 1 to get quantitative information.\n",
      "  y = odeint(self._system_dynamics_function, x0, t, (q1, q3, kv1, kv2, kv3))\n",
      "100%|██████████| 140/140 [00:07<00:00, 18.23it/s]\n"
     ]
    },
    {
     "data": {
      "text/plain": [
       "array([[ 7.04967142,  2.98617357,  0.06476885],\n",
       "       [ 7.25230299,  2.97658466, -0.0234137 ],\n",
       "       [ 7.35792128,  3.07674347, -0.04694744],\n",
       "       ...,\n",
       "       [13.29385432, 10.43353636,  0.83346009],\n",
       "       [13.25989115, 10.35178551,  0.82546332],\n",
       "       [13.45140526, 10.4167104 ,  0.37581695]])"
      ]
     },
     "execution_count": 13,
     "metadata": {},
     "output_type": "execute_result"
    }
   ],
   "source": [
    "# Simulation of an anomaly in v23 state\n",
    "system.simulate(cycle_list=[\n",
    "    [\"q1\", \"v12\", \"v23\", \"q1\", \"v12\", \"v23\", \"v3\"],\n",
    "    [\"q1\", \"v12\", \"v23\", \"q1\", \"v12\", \"v23-faulty\", \"v3\"],\n",
    "    [\"q1\", \"v12\", \"v23\", \"q1\", \"v12\", \"v23\", \"v3\"]\n",
    "    ],\n",
    "    nb_of_cycles_list=[4, 1, 15],\n",
    "    sd_q=None, sd_kv=None, sd_dur=None, sd_white_noise=sd_noise,\n",
    "    periodic_inflow=False,\n",
    "    export_path=\"preprocessed_data/tank_simulation/v23short1s_faulty.csv\"\n",
    ")"
   ]
  },
  {
   "cell_type": "code",
   "execution_count": 14,
   "metadata": {},
   "outputs": [
    {
     "name": "stderr",
     "output_type": "stream",
     "text": [
      "100%|██████████| 140/140 [00:06<00:00, 20.83it/s]\n"
     ]
    },
    {
     "data": {
      "text/plain": [
       "array([[ 7.04967142,  2.98617357,  0.06476885],\n",
       "       [ 7.25230299,  2.97658466, -0.0234137 ],\n",
       "       [ 7.35792128,  3.07674347, -0.04694744],\n",
       "       ...,\n",
       "       [13.33779887, 10.472206  ,  0.84397157],\n",
       "       [13.3038357 , 10.39045515,  0.83537569],\n",
       "       [13.49534981, 10.45538004,  0.38513021]])"
      ]
     },
     "execution_count": 14,
     "metadata": {},
     "output_type": "execute_result"
    }
   ],
   "source": [
    "# Simulation of an anomaly in v3 state\n",
    "system.simulate(cycle_list=[\n",
    "    [\"q1\", \"v12\", \"v23\", \"q1\", \"v12\", \"v23\", \"v3\"],\n",
    "    [\"q1\", \"v12\", \"v23\", \"q1\", \"v12\", \"v23\", \"v3-faulty\"],\n",
    "    [\"q1\", \"v12\", \"v23\", \"q1\", \"v12\", \"v23\", \"v3\"]\n",
    "    ],\n",
    "    nb_of_cycles_list=[4, 1, 15],\n",
    "    sd_q=None, sd_kv=None, sd_dur=None, sd_white_noise=sd_noise,\n",
    "    periodic_inflow=False,\n",
    "    export_path=\"preprocessed_data/tank_simulation/v3short1s_faulty.csv\"\n",
    ")"
   ]
  },
  {
   "cell_type": "markdown",
   "metadata": {},
   "source": [
    "### Changing anomaly duration to 100sec with cycle repettitions (15, 1, 15)"
   ]
  },
  {
   "cell_type": "code",
   "execution_count": 15,
   "metadata": {},
   "outputs": [],
   "source": [
    "duration_anomaly = 100\n",
    "sd_noise = 0.1\n",
    "sd_q = 0.05  # for one scenario, we add noise on the inflow\n",
    "sd_dur = duration * 0.1  # for one scenario, we add noise on the duration"
   ]
  },
  {
   "cell_type": "code",
   "execution_count": 16,
   "metadata": {},
   "outputs": [
    {
     "name": "stderr",
     "output_type": "stream",
     "text": [
      "100%|██████████| 140/140 [00:05<00:00, 27.50it/s]\n"
     ]
    },
    {
     "data": {
      "text/plain": [
       "array([[ 7.04967142,  2.98617357,  0.06476885],\n",
       "       [ 7.25230299,  2.97658466, -0.0234137 ],\n",
       "       [ 7.35792128,  3.07674347, -0.04694744],\n",
       "       ...,\n",
       "       [13.64128699, 10.73967233,  0.91808806],\n",
       "       [13.60732381, 10.65792147,  0.90537835],\n",
       "       [13.79883792, 10.72284636,  0.45101904]])"
      ]
     },
     "execution_count": 16,
     "metadata": {},
     "output_type": "execute_result"
    }
   ],
   "source": [
    "# Simulation of an anomaly in q1 state\n",
    "system.simulate(cycle_list=[\n",
    "    [\"q1\", \"v12\", \"v23\", \"q1\", \"v12\", \"v23\", \"v3\"],\n",
    "    [\"q1\", \"v12\", \"v23\", \"q1-faulty\", \"v12\", \"v23\", \"v3\"],\n",
    "    [\"q1\", \"v12\", \"v23\", \"q1\", \"v12\", \"v23\", \"v3\"]\n",
    "    ],\n",
    "    nb_of_cycles_list=[4, 1, 15],\n",
    "    sd_q=None, sd_kv=None, sd_dur=None, sd_white_noise=sd_noise,\n",
    "    periodic_inflow=False,\n",
    "    export_path=\"preprocessed_data/tank_simulation/q1_100s_faulty.csv\"\n",
    ")"
   ]
  },
  {
   "cell_type": "code",
   "execution_count": 17,
   "metadata": {},
   "outputs": [
    {
     "name": "stderr",
     "output_type": "stream",
     "text": [
      "100%|██████████| 140/140 [00:05<00:00, 23.88it/s]\n"
     ]
    },
    {
     "data": {
      "text/plain": [
       "array([[ 7.04967142,  2.98617357,  0.06476885],\n",
       "       [ 7.25230299,  2.97658466, -0.0234137 ],\n",
       "       [ 7.35792128,  3.07674347, -0.04694744],\n",
       "       ...,\n",
       "       [13.27608458, 10.41790396,  0.82922562],\n",
       "       [13.2421214 , 10.33615311,  0.82147136],\n",
       "       [13.43363551, 10.401078  ,  0.3720675 ]])"
      ]
     },
     "execution_count": 17,
     "metadata": {},
     "output_type": "execute_result"
    }
   ],
   "source": [
    "# Simulation of an anomaly in v12 state\n",
    "system.simulate(cycle_list=[\n",
    "    [\"q1\", \"v12\", \"v23\", \"q1\", \"v12\", \"v23\", \"v3\"],\n",
    "    [\"q1\", \"v12\", \"v23\", \"q1\", \"v12-faulty\", \"v23\", \"v3\"],\n",
    "    [\"q1\", \"v12\", \"v23\", \"q1\", \"v12\", \"v23\", \"v3\"]\n",
    "    ],\n",
    "    nb_of_cycles_list=[4, 1, 15],\n",
    "    sd_q=None, sd_kv=None, sd_dur=None, sd_white_noise=sd_noise,\n",
    "    periodic_inflow=False,\n",
    "    export_path=\"preprocessed_data/tank_simulation/v12_100s_faulty.csv\"\n",
    ")"
   ]
  },
  {
   "cell_type": "code",
   "execution_count": 18,
   "metadata": {},
   "outputs": [
    {
     "name": "stderr",
     "output_type": "stream",
     "text": [
      " 21%|██▏       | 30/140 [00:01<00:03, 30.10it/s]/tmp/ipykernel_47596/892323876.py:44: ODEintWarning: Excess work done on this call (perhaps wrong Dfun type). Run with full_output = 1 to get quantitative information.\n",
      "  y = odeint(self._system_dynamics_function, x0, t, (q1, q3, kv1, kv2, kv3))\n",
      "100%|██████████| 140/140 [00:07<00:00, 18.32it/s]\n"
     ]
    },
    {
     "data": {
      "text/plain": [
       "array([[ 7.04967142,  2.98617357,  0.06476885],\n",
       "       [ 7.25230299,  2.97658466, -0.0234137 ],\n",
       "       [ 7.35792128,  3.07674347, -0.04694744],\n",
       "       ...,\n",
       "       [13.29385432, 10.43353636,  0.83346009],\n",
       "       [13.25989115, 10.35178551,  0.82546332],\n",
       "       [13.45140526, 10.4167104 ,  0.37581695]])"
      ]
     },
     "execution_count": 18,
     "metadata": {},
     "output_type": "execute_result"
    }
   ],
   "source": [
    "# Simulation of an anomaly in v23 state\n",
    "system.simulate(cycle_list=[\n",
    "    [\"q1\", \"v12\", \"v23\", \"q1\", \"v12\", \"v23\", \"v3\"],\n",
    "    [\"q1\", \"v12\", \"v23\", \"q1\", \"v12\", \"v23-faulty\", \"v3\"],\n",
    "    [\"q1\", \"v12\", \"v23\", \"q1\", \"v12\", \"v23\", \"v3\"]\n",
    "    ],\n",
    "    nb_of_cycles_list=[4, 1, 15],\n",
    "    sd_q=None, sd_kv=None, sd_dur=None, sd_white_noise=sd_noise,\n",
    "    periodic_inflow=False,\n",
    "    export_path=\"preprocessed_data/tank_simulation/v23_100s_faulty.csv\"\n",
    ")"
   ]
  },
  {
   "cell_type": "code",
   "execution_count": 19,
   "metadata": {},
   "outputs": [
    {
     "name": "stderr",
     "output_type": "stream",
     "text": [
      "100%|██████████| 140/140 [00:06<00:00, 21.12it/s]\n"
     ]
    },
    {
     "data": {
      "text/plain": [
       "array([[ 7.04967142,  2.98617357,  0.06476885],\n",
       "       [ 7.25230299,  2.97658466, -0.0234137 ],\n",
       "       [ 7.35792128,  3.07674347, -0.04694744],\n",
       "       ...,\n",
       "       [13.33779887, 10.472206  ,  0.84397157],\n",
       "       [13.3038357 , 10.39045515,  0.83537569],\n",
       "       [13.49534981, 10.45538004,  0.38513021]])"
      ]
     },
     "execution_count": 19,
     "metadata": {},
     "output_type": "execute_result"
    }
   ],
   "source": [
    "# Simulation of an anomaly in v3 state\n",
    "system.simulate(cycle_list=[\n",
    "    [\"q1\", \"v12\", \"v23\", \"q1\", \"v12\", \"v23\", \"v3\"],\n",
    "    [\"q1\", \"v12\", \"v23\", \"q1\", \"v12\", \"v23\", \"v3-faulty\"],\n",
    "    [\"q1\", \"v12\", \"v23\", \"q1\", \"v12\", \"v23\", \"v3\"]\n",
    "    ],\n",
    "    nb_of_cycles_list=[4, 1, 15],\n",
    "    sd_q=None, sd_kv=None, sd_dur=None, sd_white_noise=sd_noise,\n",
    "    periodic_inflow=False,\n",
    "    export_path=\"preprocessed_data/tank_simulation/v3_100s_faulty.csv\"\n",
    ")"
   ]
  },
  {
   "cell_type": "code",
   "execution_count": 20,
   "metadata": {},
   "outputs": [
    {
     "name": "stderr",
     "output_type": "stream",
     "text": [
      "100%|██████████| 140/140 [00:06<00:00, 22.16it/s]\n"
     ]
    },
    {
     "data": {
      "text/plain": [
       "array([[ 7.04967142,  2.98617357,  0.06476885],\n",
       "       [ 7.25230299,  2.97658466, -0.0234137 ],\n",
       "       [ 7.35792128,  3.07674347, -0.04694744],\n",
       "       ...,\n",
       "       [13.24991314, 10.39488487,  0.82300593],\n",
       "       [13.21594996, 10.31313402,  0.8156091 ],\n",
       "       [13.40746407, 10.37805891,  0.36656268]])"
      ]
     },
     "execution_count": 20,
     "metadata": {},
     "output_type": "execute_result"
    }
   ],
   "source": [
    "# Simulation of an anomaly in rest state\n",
    "system.simulate(cycle_list=[\n",
    "    [\"q1\", \"v12\", \"v23\", \"q1\", \"v12\", \"v23\", \"v3\"],\n",
    "    [\"q1\", \"v12\", \"v23\", \"rest_faulty\", \"v12\", \"v23\", \"v3\"],\n",
    "    [\"q1\", \"v12\", \"v23\", \"q1\", \"v12\", \"v23\", \"v3\"]\n",
    "    ],\n",
    "    nb_of_cycles_list=[4, 1, 15],\n",
    "    sd_q=None, sd_kv=None, sd_dur=None, sd_white_noise=sd_noise,\n",
    "    periodic_inflow=False,\n",
    "    export_path=\"preprocessed_data/tank_simulation/rest_100s_faulty.csv\"\n",
    ")"
   ]
  },
  {
   "cell_type": "code",
   "execution_count": 21,
   "metadata": {},
   "outputs": [
    {
     "name": "stderr",
     "output_type": "stream",
     "text": [
      "100%|██████████| 140/140 [00:06<00:00, 22.81it/s]\n"
     ]
    },
    {
     "data": {
      "text/plain": [
       "array([[ 7.04967142,  2.98617357,  0.06476885],\n",
       "       [ 7.25230299,  2.97658466, -0.0234137 ],\n",
       "       [ 7.35792128,  3.07674347, -0.04694744],\n",
       "       ...,\n",
       "       [13.2708959 , 10.41333979,  0.82799092],\n",
       "       [13.23693272, 10.33158893,  0.8203075 ],\n",
       "       [13.42844683, 10.39651382,  0.37097448]])"
      ]
     },
     "execution_count": 21,
     "metadata": {},
     "output_type": "execute_result"
    }
   ],
   "source": [
    "# Simulation of an anomaly in v12 state\n",
    "system.simulate(cycle_list=[\n",
    "    [\"q1\", \"v12\", \"v23\", \"q1\", \"v12\", \"v23\", \"v3\"],\n",
    "    [\"q1\", \"v12\", \"v23\", \"q1\", \"v12\", \"v12+v23_faulty\", \"v3\"],\n",
    "    [\"q1\", \"v12\", \"v23\", \"q1\", \"v12\", \"v23\", \"v3\"]\n",
    "    ],\n",
    "    nb_of_cycles_list=[4, 1, 15],\n",
    "    sd_q=None, sd_kv=None, sd_dur=None, sd_white_noise=sd_noise,\n",
    "    periodic_inflow=False,\n",
    "    export_path=\"preprocessed_data/tank_simulation/v12v23_100s_faulty.csv\"\n",
    ")"
   ]
  },
  {
   "cell_type": "code",
   "execution_count": 22,
   "metadata": {},
   "outputs": [
    {
     "name": "stderr",
     "output_type": "stream",
     "text": [
      "100%|██████████| 140/140 [00:05<00:00, 23.82it/s]\n"
     ]
    },
    {
     "data": {
      "text/plain": [
       "array([[ 7.04967142,  2.98617357,  0.06476885],\n",
       "       [ 7.25230299,  2.97658466, -0.0234137 ],\n",
       "       [ 7.35792128,  3.07674347, -0.04694744],\n",
       "       ...,\n",
       "       [13.2526309 , 10.39727499,  0.82365087],\n",
       "       [13.21866772, 10.31552414,  0.81621691],\n",
       "       [13.41018183, 10.38044903,  0.36713336]])"
      ]
     },
     "execution_count": 22,
     "metadata": {},
     "output_type": "execute_result"
    }
   ],
   "source": [
    "# Simulation of an anomaly in v23 state\n",
    "system.simulate(cycle_list=[\n",
    "    [\"q1\", \"v12\", \"v23\", \"q1\", \"v12\", \"v23\", \"v3\"],\n",
    "    [\"q1\", \"v12\", \"v23\", \"q1+v3_faulty\", \"v12\", \"v23\", \"v3\"],\n",
    "    [\"q1\", \"v12\", \"v23\", \"q1\", \"v12\", \"v23\", \"v3\"]\n",
    "    ],\n",
    "    nb_of_cycles_list=[4, 1, 15],\n",
    "    sd_q=None, sd_kv=None, sd_dur=None, sd_white_noise=sd_noise,\n",
    "    periodic_inflow=False,\n",
    "    export_path=\"preprocessed_data/tank_simulation/q1v3_100s_faulty.csv\"\n",
    ")"
   ]
  },
  {
   "cell_type": "code",
   "execution_count": 23,
   "metadata": {},
   "outputs": [
    {
     "name": "stderr",
     "output_type": "stream",
     "text": [
      "100%|██████████| 140/140 [00:06<00:00, 21.71it/s]\n"
     ]
    },
    {
     "data": {
      "text/plain": [
       "array([[ 7.04967142,  2.98617357,  0.06476885],\n",
       "       [ 7.25230299,  2.97658466, -0.0234137 ],\n",
       "       [ 7.35792128,  3.07674347, -0.04694744],\n",
       "       ...,\n",
       "       [13.2760846 , 10.41790395,  0.82922562],\n",
       "       [13.24212143, 10.3361531 ,  0.82147136],\n",
       "       [13.43363554, 10.40107799,  0.3720675 ]])"
      ]
     },
     "execution_count": 23,
     "metadata": {},
     "output_type": "execute_result"
    }
   ],
   "source": [
    "# Simulation of an anomaly in v3 state\n",
    "system.simulate(cycle_list=[\n",
    "    [\"q1\", \"v12\", \"v23\", \"q1\", \"v12\", \"v23\", \"v3\"],\n",
    "    [\"q1\", \"v12\", \"v23\", \"q1+v23_faulty\", \"v12\", \"v23\", \"v3\"],\n",
    "    [\"q1\", \"v12\", \"v23\", \"q1\", \"v12\", \"v23\", \"v3\"]\n",
    "    ],\n",
    "    nb_of_cycles_list=[4, 1, 15],\n",
    "    sd_q=None, sd_kv=None, sd_dur=None, sd_white_noise=sd_noise,\n",
    "    periodic_inflow=False,\n",
    "    export_path=\"preprocessed_data/tank_simulation/q1v23_100s_faulty.csv\"\n",
    ")\n",
    "\n"
   ]
  },
  {
   "cell_type": "code",
   "execution_count": 24,
   "metadata": {},
   "outputs": [
    {
     "name": "stderr",
     "output_type": "stream",
     "text": [
      "100%|██████████| 139/139 [00:07<00:00, 19.23it/s]\n"
     ]
    },
    {
     "data": {
      "text/plain": [
       "array([[ 7.04967142,  2.98617357,  0.06476885],\n",
       "       [ 7.25230299,  2.97658466, -0.0234137 ],\n",
       "       [ 7.35792128,  3.07674347, -0.04694744],\n",
       "       ...,\n",
       "       [13.42722449, 10.40265299,  0.89894223],\n",
       "       [13.49292929, 10.47292365,  0.80127504],\n",
       "       [13.23333813, 10.27847703,  0.65068632]])"
      ]
     },
     "execution_count": 24,
     "metadata": {},
     "output_type": "execute_result"
    }
   ],
   "source": [
    "# Simulation of an anomaly in v3 state\n",
    "system.simulate(cycle_list=[\n",
    "    [\"q1\", \"v12\", \"v23\", \"q1\", \"v12\", \"v23\", \"v3\"],\n",
    "    [\"q1\", \"v12\", \"v23\", \"q1\", \"v12+v3_faulty\", \"v23\"],\n",
    "    [\"q1\", \"v12\", \"v23\", \"q1\", \"v12\", \"v23\", \"v3\"]\n",
    "    ],\n",
    "    nb_of_cycles_list=[4, 1, 15],\n",
    "    sd_q=None, sd_kv=None, sd_dur=None, sd_white_noise=sd_noise,\n",
    "    periodic_inflow=False,\n",
    "    export_path=\"preprocessed_data/tank_simulation/v12v3_100s_faulty.csv\"\n",
    ")"
   ]
  },
  {
   "cell_type": "code",
   "execution_count": null,
   "metadata": {},
   "outputs": [],
   "source": []
  }
 ],
 "metadata": {
  "kernelspec": {
   "display_name": "Python 3",
   "language": "python",
   "name": "python3"
  },
  "language_info": {
   "codemirror_mode": {
    "name": "ipython",
    "version": 3
   },
   "file_extension": ".py",
   "mimetype": "text/x-python",
   "name": "python",
   "nbconvert_exporter": "python",
   "pygments_lexer": "ipython3",
   "version": "3.11.8"
  }
 },
 "nbformat": 4,
 "nbformat_minor": 2
}
